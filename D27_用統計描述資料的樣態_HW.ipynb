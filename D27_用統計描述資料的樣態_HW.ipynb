{
 "cells": [
  {
   "cell_type": "markdown",
   "metadata": {
    "id": "H-z4L8J371GO"
   },
   "source": [
    "## 作業:\n",
    "今天學到不同統計量之間特性，  \n",
    "試著分析男生女生身高資料，  \n",
    "試著回答下面的問題:  \n",
    "Q1:試著用今天所教的內容，如何描述這兩組資料的樣態?    \n",
    "Q2: 請問男生和女生在平均身高上誰比較高?   \n",
    "Q3:請問第二題的答案和日常生活中觀察的一致嗎? 如果不一致，你覺得原因可能為何?    \n",
    "上述問題透過  python 語法進行運算，\n",
    "並將上述答案填寫在 (google 表單)[https://docs.google.com/forms/d/e/1FAIpQLSdDzwpeJl8YLPwZaW8pBZvtuXY9kIbbZLqxcXyzFaoraV5JEA/viewform ]\n",
    "![](作業資料圖檔.PNG)"
   ]
  },
  {
   "cell_type": "code",
   "execution_count": 1,
   "metadata": {
    "id": "yz28_IgkYdBW"
   },
   "outputs": [],
   "source": [
    "# library\n",
    "import matplotlib.pyplot as plt\n",
    "import numpy as np\n",
    "import pandas as pd\n",
    "from scipy import stats\n",
    "import math\n",
    "import statistics\n",
    "import seaborn as sns"
   ]
  },
  {
   "cell_type": "code",
   "execution_count": 2,
   "metadata": {
    "id": "3NtzuWtt71GU",
    "outputId": "be21c4eb-a6c2-4674-aadd-d378bafc0428"
   },
   "outputs": [],
   "source": [
    "## 輸入資料\n",
    "boys=[164, 176, 169, 169, 165, 175, 159, 151, 144, 160, 183, 165, 156, 170, 164, 173, 165, 163, 177, 171]\n",
    "girls=[169, 183, 170, 168, 182, 170, 173, 185, 151, 156, 162, 169, 162, 181, 159, 154, 167, 175, 170, 160]"
   ]
  },
  {
   "cell_type": "code",
   "execution_count": null,
   "metadata": {},
   "outputs": [],
   "source": []
  },
  {
   "cell_type": "code",
   "execution_count": 3,
   "metadata": {
    "id": "uDM9AzrY71GW",
    "outputId": "f4e7ede3-fda9-4858-f122-af7c3b3f3ad4"
   },
   "outputs": [
    {
     "name": "stdout",
     "output_type": "stream",
     "text": [
      "Average value of boys' height: 165.95\n",
      "Average value of girls' height: 168.3\n",
      "Median value of boys' height: 165.0\n",
      "Median value of girls' height: 169.0\n",
      "Mode value of boys' height: 165\n",
      "Mode value of girls' height: 170\n",
      "Range of boys' height: 39\n",
      "Range of girls' height: 34\n",
      "Variance of boys' height: 84.89210526315789\n",
      "Variance of girls' height: 95.37894736842104\n",
      "Standard deviation of boys' height: 9.213691185575838\n",
      "Standard deviation of girls' height: 9.766214587465353\n",
      "90th percentile of boys' height: 176.1\n",
      "50th percentile of boys' height: 165.0\n",
      "20th percentile of boys' height: 159.8\n",
      "90th percentile of girls' height: 182.1\n",
      "50th percentile of girls' height: 169.0\n",
      "20th percentile of girls' height: 159.8\n",
      "Skewness of boys' height: -0.47132127317376954\n",
      "Skewness of girls' height: 0.05985321129365068\n",
      "Kurtosis of boys' height: 0.19395882957876331\n",
      "Kurtosis of girls' height: -0.8203607083948947\n"
     ]
    }
   ],
   "source": [
    "#Q1:試著用今天所教的內容，如何描述這兩組資料的樣態?\n",
    "#暗示:  分別計算男生和女生的統計量\n",
    "print(\"Average value of boys' height:\", np.mean(boys))\n",
    "print(\"Average value of girls' height:\", np.mean(girls))\n",
    "\n",
    "print(\"Median value of boys' height:\", np.median(boys))\n",
    "print(\"Median value of girls' height:\", np.median(girls))\n",
    "\n",
    "print(\"Mode value of boys' height:\", stats.mode(boys)[0][0])\n",
    "print(\"Mode value of girls' height:\", stats.mode(girls)[0][0])\n",
    "\n",
    "def rangeV(data):\n",
    "    return np.max(data) - np.min(data)\n",
    "print(\"Range of boys' height:\", rangeV(boys))\n",
    "print(\"Range of girls' height:\", rangeV(girls))\n",
    "\n",
    "print(\"Variance of boys' height:\", np.var(boys, ddof = 1))\n",
    "print(\"Variance of girls' height:\", np.var(girls, ddof = 1))\n",
    "\n",
    "print(\"Standard deviation of boys' height:\", np.std(boys, ddof = 1))\n",
    "print(\"Standard deviation of girls' height:\", np.std(girls, ddof = 1))\n",
    "\n",
    "print(\"90th percentile of boys' height:\",np.percentile(boys, 90))\n",
    "print(\"50th percentile of boys' height:\",np.percentile(boys, 50))\n",
    "print(\"20th percentile of boys' height:\",np.percentile(boys, 20))\n",
    "\n",
    "print(\"90th percentile of girls' height:\",np.percentile(girls, 90))\n",
    "print(\"50th percentile of girls' height:\",np.percentile(girls, 50))\n",
    "print(\"20th percentile of girls' height:\",np.percentile(girls, 20))\n",
    "\n",
    "print(\"Skewness of boys' height:\", stats.skew(boys))\n",
    "print(\"Skewness of girls' height:\", stats.skew(girls))\n",
    "\n",
    "print(\"Kurtosis of boys' height:\", stats.kurtosis(boys))\n",
    "print(\"Kurtosis of girls' height:\", stats.kurtosis(girls))"
   ]
  },
  {
   "cell_type": "code",
   "execution_count": 4,
   "metadata": {
    "id": "xH_GNsC271GW",
    "outputId": "f4b4c46a-0d8b-421c-9c70-0ebf2aab0e31"
   },
   "outputs": [
    {
     "data": {
      "text/plain": [
       "False"
      ]
     },
     "execution_count": 4,
     "metadata": {},
     "output_type": "execute_result"
    }
   ],
   "source": [
    "#Q2: 請問男生和女生在平均身高上誰比較高? \n",
    "\n",
    "#運用男生平均身高是否比女生高做比較。If true, 代表是，false代表女生平均高比男生高\n",
    "np.mean(boys)>np.mean(girls)"
   ]
  },
  {
   "cell_type": "code",
   "execution_count": 5,
   "metadata": {
    "id": "xAzZU0Dv71GX",
    "outputId": "e2017c09-70fc-41ab-99c0-9d41fe21629d"
   },
   "outputs": [],
   "source": [
    "#Q3:請問第二題的答案和日常生活中觀察的一致嗎? 如果不一致，你覺得原因可能為何? \n",
    "\n",
    "# 不一致，因為是抽樣調查，樣本跟母體數可能差異太大"
   ]
  },
  {
   "cell_type": "code",
   "execution_count": null,
   "metadata": {},
   "outputs": [],
   "source": []
  }
 ],
 "metadata": {
  "colab": {
   "collapsed_sections": [],
   "name": "作業.ipynb",
   "provenance": []
  },
  "kernelspec": {
   "display_name": "Python 3",
   "language": "python",
   "name": "python3"
  },
  "language_info": {
   "codemirror_mode": {
    "name": "ipython",
    "version": 3
   },
   "file_extension": ".py",
   "mimetype": "text/x-python",
   "name": "python",
   "nbconvert_exporter": "python",
   "pygments_lexer": "ipython3",
   "version": "3.8.5"
  }
 },
 "nbformat": 4,
 "nbformat_minor": 1
}
